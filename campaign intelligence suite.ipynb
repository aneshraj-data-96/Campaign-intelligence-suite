{
 "cells": [
  {
   "cell_type": "code",
   "execution_count": 1,
   "id": "1dba3562",
   "metadata": {},
   "outputs": [],
   "source": [
    "# data_collection.py\n",
    "import pandas as pd\n",
    "from faker import Faker\n",
    "import random\n",
    "\n",
    "fake = Faker()\n",
    "data = []\n",
    "\n",
    "for _ in range(200000):\n",
    "    record = {\n",
    "        \"campaign_id\": fake.uuid4(),\n",
    "        \"campaign_name\": fake.bs(),\n",
    "        \"start_date\": fake.date_between(start_date='-2y', end_date='today'),\n",
    "        \"end_date\": fake.date_between(start_date='today', end_date='+1y'),\n",
    "        \"budget\": round(random.uniform(1000, 100000), 2),\n",
    "        \"channel\": random.choice([\"Email\", \"Social Media\", \"TV\", \"Radio\", \"Search\"]),\n",
    "        \"clicks\": random.randint(0, 10000),\n",
    "        \"impressions\": random.randint(1000, 100000),\n",
    "        \"conversions\": random.randint(0, 5000),\n",
    "        \"region\": fake.state()\n",
    "    }\n",
    "    data.append(record)\n",
    "\n",
    "df = pd.DataFrame(data)\n",
    "df.to_csv(\"campaign_data.csv\", index=False)\n"
   ]
  },
  {
   "cell_type": "code",
   "execution_count": 3,
   "id": "c1e8e276",
   "metadata": {},
   "outputs": [],
   "source": [
    "# data_cleaning.py\n",
    "import pandas as pd\n",
    "\n",
    "df = pd.read_csv('C:\\\\Users\\\\Dhusyath\\\\Downloads\\\\PROJECTS_DA\\\\PROJECTS_DA\\\\Campaign Intelligence Suite (marketing & Ads)\\\\campaign_data.csv')\n",
    "\n",
    "\n"
   ]
  },
  {
   "cell_type": "code",
   "execution_count": 4,
   "id": "0137cd99",
   "metadata": {},
   "outputs": [
    {
     "name": "stdout",
     "output_type": "stream",
     "text": [
      "<class 'pandas.core.frame.DataFrame'>\n",
      "RangeIndex: 200000 entries, 0 to 199999\n",
      "Data columns (total 10 columns):\n",
      " #   Column         Non-Null Count   Dtype  \n",
      "---  ------         --------------   -----  \n",
      " 0   campaign_id    200000 non-null  object \n",
      " 1   campaign_name  200000 non-null  object \n",
      " 2   start_date     200000 non-null  object \n",
      " 3   end_date       200000 non-null  object \n",
      " 4   budget         200000 non-null  float64\n",
      " 5   channel        200000 non-null  object \n",
      " 6   clicks         200000 non-null  int64  \n",
      " 7   impressions    200000 non-null  int64  \n",
      " 8   conversions    200000 non-null  int64  \n",
      " 9   region         200000 non-null  object \n",
      "dtypes: float64(1), int64(3), object(6)\n",
      "memory usage: 15.3+ MB\n"
     ]
    }
   ],
   "source": [
    "df.info()"
   ]
  },
  {
   "cell_type": "code",
   "execution_count": 5,
   "id": "4e8cd6ea",
   "metadata": {},
   "outputs": [
    {
     "data": {
      "text/html": [
       "<div>\n",
       "<style scoped>\n",
       "    .dataframe tbody tr th:only-of-type {\n",
       "        vertical-align: middle;\n",
       "    }\n",
       "\n",
       "    .dataframe tbody tr th {\n",
       "        vertical-align: top;\n",
       "    }\n",
       "\n",
       "    .dataframe thead th {\n",
       "        text-align: right;\n",
       "    }\n",
       "</style>\n",
       "<table border=\"1\" class=\"dataframe\">\n",
       "  <thead>\n",
       "    <tr style=\"text-align: right;\">\n",
       "      <th></th>\n",
       "      <th>budget</th>\n",
       "      <th>clicks</th>\n",
       "      <th>impressions</th>\n",
       "      <th>conversions</th>\n",
       "    </tr>\n",
       "  </thead>\n",
       "  <tbody>\n",
       "    <tr>\n",
       "      <th>count</th>\n",
       "      <td>200000.000000</td>\n",
       "      <td>200000.000000</td>\n",
       "      <td>200000.000000</td>\n",
       "      <td>200000.000000</td>\n",
       "    </tr>\n",
       "    <tr>\n",
       "      <th>mean</th>\n",
       "      <td>50584.415298</td>\n",
       "      <td>5000.918765</td>\n",
       "      <td>50574.176810</td>\n",
       "      <td>2495.800230</td>\n",
       "    </tr>\n",
       "    <tr>\n",
       "      <th>std</th>\n",
       "      <td>28539.130278</td>\n",
       "      <td>2888.334538</td>\n",
       "      <td>28574.922742</td>\n",
       "      <td>1448.683719</td>\n",
       "    </tr>\n",
       "    <tr>\n",
       "      <th>min</th>\n",
       "      <td>1000.020000</td>\n",
       "      <td>0.000000</td>\n",
       "      <td>1000.000000</td>\n",
       "      <td>0.000000</td>\n",
       "    </tr>\n",
       "    <tr>\n",
       "      <th>25%</th>\n",
       "      <td>25932.022500</td>\n",
       "      <td>2499.000000</td>\n",
       "      <td>25830.000000</td>\n",
       "      <td>1236.000000</td>\n",
       "    </tr>\n",
       "    <tr>\n",
       "      <th>50%</th>\n",
       "      <td>50676.345000</td>\n",
       "      <td>5013.000000</td>\n",
       "      <td>50565.500000</td>\n",
       "      <td>2493.000000</td>\n",
       "    </tr>\n",
       "    <tr>\n",
       "      <th>75%</th>\n",
       "      <td>75284.320000</td>\n",
       "      <td>7506.000000</td>\n",
       "      <td>75320.250000</td>\n",
       "      <td>3758.000000</td>\n",
       "    </tr>\n",
       "    <tr>\n",
       "      <th>max</th>\n",
       "      <td>99998.510000</td>\n",
       "      <td>10000.000000</td>\n",
       "      <td>100000.000000</td>\n",
       "      <td>5000.000000</td>\n",
       "    </tr>\n",
       "  </tbody>\n",
       "</table>\n",
       "</div>"
      ],
      "text/plain": [
       "              budget         clicks    impressions    conversions\n",
       "count  200000.000000  200000.000000  200000.000000  200000.000000\n",
       "mean    50584.415298    5000.918765   50574.176810    2495.800230\n",
       "std     28539.130278    2888.334538   28574.922742    1448.683719\n",
       "min      1000.020000       0.000000    1000.000000       0.000000\n",
       "25%     25932.022500    2499.000000   25830.000000    1236.000000\n",
       "50%     50676.345000    5013.000000   50565.500000    2493.000000\n",
       "75%     75284.320000    7506.000000   75320.250000    3758.000000\n",
       "max     99998.510000   10000.000000  100000.000000    5000.000000"
      ]
     },
     "execution_count": 5,
     "metadata": {},
     "output_type": "execute_result"
    }
   ],
   "source": [
    "df.describe()"
   ]
  },
  {
   "cell_type": "code",
   "execution_count": 6,
   "id": "f5f59e47",
   "metadata": {},
   "outputs": [
    {
     "data": {
      "text/html": [
       "<div>\n",
       "<style scoped>\n",
       "    .dataframe tbody tr th:only-of-type {\n",
       "        vertical-align: middle;\n",
       "    }\n",
       "\n",
       "    .dataframe tbody tr th {\n",
       "        vertical-align: top;\n",
       "    }\n",
       "\n",
       "    .dataframe thead th {\n",
       "        text-align: right;\n",
       "    }\n",
       "</style>\n",
       "<table border=\"1\" class=\"dataframe\">\n",
       "  <thead>\n",
       "    <tr style=\"text-align: right;\">\n",
       "      <th></th>\n",
       "      <th>campaign_id</th>\n",
       "      <th>campaign_name</th>\n",
       "      <th>start_date</th>\n",
       "      <th>end_date</th>\n",
       "      <th>budget</th>\n",
       "      <th>channel</th>\n",
       "      <th>clicks</th>\n",
       "      <th>impressions</th>\n",
       "      <th>conversions</th>\n",
       "      <th>region</th>\n",
       "    </tr>\n",
       "  </thead>\n",
       "  <tbody>\n",
       "    <tr>\n",
       "      <th>0</th>\n",
       "      <td>9ab23945-f40f-40a1-8350-1d88e5d935f8</td>\n",
       "      <td>scale interactive architectures</td>\n",
       "      <td>2025-05-19</td>\n",
       "      <td>2025-09-04</td>\n",
       "      <td>64811.62</td>\n",
       "      <td>TV</td>\n",
       "      <td>3594</td>\n",
       "      <td>32645</td>\n",
       "      <td>3431</td>\n",
       "      <td>South Dakota</td>\n",
       "    </tr>\n",
       "    <tr>\n",
       "      <th>1</th>\n",
       "      <td>71d06ae4-fa1c-4252-ace3-5f46ae820874</td>\n",
       "      <td>seize leading-edge e-markets</td>\n",
       "      <td>2023-11-14</td>\n",
       "      <td>2026-02-07</td>\n",
       "      <td>12911.40</td>\n",
       "      <td>Social Media</td>\n",
       "      <td>481</td>\n",
       "      <td>29793</td>\n",
       "      <td>3911</td>\n",
       "      <td>Iowa</td>\n",
       "    </tr>\n",
       "    <tr>\n",
       "      <th>2</th>\n",
       "      <td>d40eae1f-f00d-42a2-b1d9-458b490e9a64</td>\n",
       "      <td>revolutionize user-centric solutions</td>\n",
       "      <td>2023-11-23</td>\n",
       "      <td>2025-10-26</td>\n",
       "      <td>96295.41</td>\n",
       "      <td>Social Media</td>\n",
       "      <td>7656</td>\n",
       "      <td>89049</td>\n",
       "      <td>3340</td>\n",
       "      <td>Tennessee</td>\n",
       "    </tr>\n",
       "    <tr>\n",
       "      <th>3</th>\n",
       "      <td>4ae3a7f7-7c20-4fc0-895d-e34161944772</td>\n",
       "      <td>whiteboard value-added web services</td>\n",
       "      <td>2024-11-23</td>\n",
       "      <td>2025-09-02</td>\n",
       "      <td>66280.49</td>\n",
       "      <td>Social Media</td>\n",
       "      <td>7250</td>\n",
       "      <td>84740</td>\n",
       "      <td>874</td>\n",
       "      <td>Michigan</td>\n",
       "    </tr>\n",
       "    <tr>\n",
       "      <th>4</th>\n",
       "      <td>26c358b9-cfd2-4b97-9a02-7dbe97982ca6</td>\n",
       "      <td>disintermediate mission-critical web services</td>\n",
       "      <td>2023-12-04</td>\n",
       "      <td>2025-12-21</td>\n",
       "      <td>25852.67</td>\n",
       "      <td>Social Media</td>\n",
       "      <td>9398</td>\n",
       "      <td>48500</td>\n",
       "      <td>762</td>\n",
       "      <td>Rhode Island</td>\n",
       "    </tr>\n",
       "    <tr>\n",
       "      <th>5</th>\n",
       "      <td>b2bd62a5-53e5-4012-a803-7ac37f9068e9</td>\n",
       "      <td>mesh scalable eyeballs</td>\n",
       "      <td>2024-01-30</td>\n",
       "      <td>2025-11-16</td>\n",
       "      <td>26819.41</td>\n",
       "      <td>Email</td>\n",
       "      <td>9544</td>\n",
       "      <td>31455</td>\n",
       "      <td>2504</td>\n",
       "      <td>Montana</td>\n",
       "    </tr>\n",
       "    <tr>\n",
       "      <th>6</th>\n",
       "      <td>2cf327ca-9fba-425c-bc40-11fb26e7024f</td>\n",
       "      <td>grow next-generation interfaces</td>\n",
       "      <td>2023-11-22</td>\n",
       "      <td>2026-02-10</td>\n",
       "      <td>9116.41</td>\n",
       "      <td>Social Media</td>\n",
       "      <td>8732</td>\n",
       "      <td>76838</td>\n",
       "      <td>2341</td>\n",
       "      <td>California</td>\n",
       "    </tr>\n",
       "    <tr>\n",
       "      <th>7</th>\n",
       "      <td>52cdff1f-7857-498d-ad57-19ac57b805f4</td>\n",
       "      <td>transform enterprise technologies</td>\n",
       "      <td>2024-12-20</td>\n",
       "      <td>2026-03-08</td>\n",
       "      <td>5562.05</td>\n",
       "      <td>Radio</td>\n",
       "      <td>8661</td>\n",
       "      <td>7525</td>\n",
       "      <td>3455</td>\n",
       "      <td>North Dakota</td>\n",
       "    </tr>\n",
       "    <tr>\n",
       "      <th>8</th>\n",
       "      <td>3622cba0-dbf5-4eb8-a8df-97005815a183</td>\n",
       "      <td>engage enterprise models</td>\n",
       "      <td>2023-08-24</td>\n",
       "      <td>2026-06-20</td>\n",
       "      <td>59531.57</td>\n",
       "      <td>Search</td>\n",
       "      <td>7276</td>\n",
       "      <td>92715</td>\n",
       "      <td>4799</td>\n",
       "      <td>Arkansas</td>\n",
       "    </tr>\n",
       "    <tr>\n",
       "      <th>9</th>\n",
       "      <td>5c7f40c2-8beb-4612-b8c8-36ebd86a77b2</td>\n",
       "      <td>evolve dynamic portals</td>\n",
       "      <td>2023-09-03</td>\n",
       "      <td>2025-12-08</td>\n",
       "      <td>86060.26</td>\n",
       "      <td>Search</td>\n",
       "      <td>7948</td>\n",
       "      <td>92869</td>\n",
       "      <td>1232</td>\n",
       "      <td>Vermont</td>\n",
       "    </tr>\n",
       "  </tbody>\n",
       "</table>\n",
       "</div>"
      ],
      "text/plain": [
       "                            campaign_id  \\\n",
       "0  9ab23945-f40f-40a1-8350-1d88e5d935f8   \n",
       "1  71d06ae4-fa1c-4252-ace3-5f46ae820874   \n",
       "2  d40eae1f-f00d-42a2-b1d9-458b490e9a64   \n",
       "3  4ae3a7f7-7c20-4fc0-895d-e34161944772   \n",
       "4  26c358b9-cfd2-4b97-9a02-7dbe97982ca6   \n",
       "5  b2bd62a5-53e5-4012-a803-7ac37f9068e9   \n",
       "6  2cf327ca-9fba-425c-bc40-11fb26e7024f   \n",
       "7  52cdff1f-7857-498d-ad57-19ac57b805f4   \n",
       "8  3622cba0-dbf5-4eb8-a8df-97005815a183   \n",
       "9  5c7f40c2-8beb-4612-b8c8-36ebd86a77b2   \n",
       "\n",
       "                                   campaign_name  start_date    end_date  \\\n",
       "0                scale interactive architectures  2025-05-19  2025-09-04   \n",
       "1                   seize leading-edge e-markets  2023-11-14  2026-02-07   \n",
       "2           revolutionize user-centric solutions  2023-11-23  2025-10-26   \n",
       "3            whiteboard value-added web services  2024-11-23  2025-09-02   \n",
       "4  disintermediate mission-critical web services  2023-12-04  2025-12-21   \n",
       "5                         mesh scalable eyeballs  2024-01-30  2025-11-16   \n",
       "6                grow next-generation interfaces  2023-11-22  2026-02-10   \n",
       "7              transform enterprise technologies  2024-12-20  2026-03-08   \n",
       "8                       engage enterprise models  2023-08-24  2026-06-20   \n",
       "9                         evolve dynamic portals  2023-09-03  2025-12-08   \n",
       "\n",
       "     budget       channel  clicks  impressions  conversions        region  \n",
       "0  64811.62            TV    3594        32645         3431  South Dakota  \n",
       "1  12911.40  Social Media     481        29793         3911          Iowa  \n",
       "2  96295.41  Social Media    7656        89049         3340     Tennessee  \n",
       "3  66280.49  Social Media    7250        84740          874      Michigan  \n",
       "4  25852.67  Social Media    9398        48500          762  Rhode Island  \n",
       "5  26819.41         Email    9544        31455         2504       Montana  \n",
       "6   9116.41  Social Media    8732        76838         2341    California  \n",
       "7   5562.05         Radio    8661         7525         3455  North Dakota  \n",
       "8  59531.57        Search    7276        92715         4799      Arkansas  \n",
       "9  86060.26        Search    7948        92869         1232       Vermont  "
      ]
     },
     "execution_count": 6,
     "metadata": {},
     "output_type": "execute_result"
    }
   ],
   "source": [
    "df.head(10)"
   ]
  },
  {
   "cell_type": "code",
   "execution_count": null,
   "id": "1a3ed65e",
   "metadata": {},
   "outputs": [],
   "source": []
  },
  {
   "cell_type": "code",
   "execution_count": 11,
   "id": "dbc3cc21",
   "metadata": {},
   "outputs": [
    {
     "data": {
      "text/plain": [
       "np.int64(0)"
      ]
     },
     "execution_count": 11,
     "metadata": {},
     "output_type": "execute_result"
    }
   ],
   "source": [
    "df.duplicated().sum()"
   ]
  },
  {
   "cell_type": "code",
   "execution_count": 10,
   "id": "480d33c8",
   "metadata": {},
   "outputs": [],
   "source": [
    "# Remove duplicates\n",
    "df.drop_duplicates(inplace=True)"
   ]
  },
  {
   "cell_type": "code",
   "execution_count": 12,
   "id": "d34bb3c5",
   "metadata": {},
   "outputs": [],
   "source": [
    "# convert dates\n",
    "df[\"start_date\"]=pd.to_datetime(df[\"start_date\"])\n",
    "df[\"end_date\"]=pd.to_datetime(df[\"end_date\"])"
   ]
  },
  {
   "cell_type": "code",
   "execution_count": null,
   "id": "ab7dd4a9",
   "metadata": {},
   "outputs": [],
   "source": []
  },
  {
   "cell_type": "code",
   "execution_count": 14,
   "id": "5f292281",
   "metadata": {},
   "outputs": [],
   "source": [
    "df.to_csv(\"cleaned_campaign.csv\",index=False)"
   ]
  },
  {
   "cell_type": "code",
   "execution_count": 15,
   "id": "3c412000",
   "metadata": {},
   "outputs": [
    {
     "name": "stdout",
     "output_type": "stream",
     "text": [
      "Missing values:\n",
      " campaign_id      0\n",
      "campaign_name    0\n",
      "start_date       0\n",
      "end_date         0\n",
      "budget           0\n",
      "channel          0\n",
      "clicks           0\n",
      "impressions      0\n",
      "conversions      0\n",
      "region           0\n",
      "dtype: int64\n"
     ]
    }
   ],
   "source": [
    "# data quality check\n",
    "import pandas as pd\n",
    "# Check for nulls\n",
    "print(\"Missing values:\\n\", df.isnull().sum()) "
   ]
  },
  {
   "cell_type": "code",
   "execution_count": 16,
   "id": "3889836b",
   "metadata": {},
   "outputs": [
    {
     "name": "stdout",
     "output_type": "stream",
     "text": [
      "Invalid date ranges:\n",
      " Empty DataFrame\n",
      "Columns: [campaign_id, campaign_name, start_date, end_date, budget, channel, clicks, impressions, conversions, region]\n",
      "Index: []\n"
     ]
    }
   ],
   "source": [
    "# check logical errors\n",
    "invalid_dates = df[df[\"end_date\"] < df[\"start_date\"]]\n",
    "print(\"Invalid date ranges:\\n\", invalid_dates)"
   ]
  },
  {
   "cell_type": "code",
   "execution_count": 17,
   "id": "f1768a5f",
   "metadata": {},
   "outputs": [
    {
     "name": "stdout",
     "output_type": "stream",
     "text": [
      "budget stats:\n",
      " count    200000.000000\n",
      "mean      50584.415298\n",
      "std       28539.130278\n",
      "min        1000.020000\n",
      "25%       25932.022500\n",
      "50%       50676.345000\n",
      "75%       75284.320000\n",
      "max       99998.510000\n",
      "Name: budget, dtype: float64\n"
     ]
    }
   ],
   "source": [
    "# check budget range\n",
    "print(\"budget stats:\\n\",df[\"budget\"].describe())"
   ]
  },
  {
   "cell_type": "code",
   "execution_count": 18,
   "id": "8405586b",
   "metadata": {},
   "outputs": [
    {
     "data": {
      "image/png": "[encoded data removed]",
      "text/plain": [
       "<Figure size 640x480 with 2 Axes>"
      ]
     },
     "metadata": {},
     "output_type": "display_data"
    }
   ],
   "source": [
    "import pandas as pd\n",
    "import seaborn as sns\n",
    "import matplotlib.pyplot as plt\n",
    "\n",
    "# correaltion heatmap\n",
    "sns.heatmap(df[[\"clicks\",\"impressions\",\"conversions\",\"budget\"]].corr(),annot=True)\n",
    "plt.title(\"Correlation heatmap\")\n",
    "plt.show()\n"
   ]
  },
  {
   "cell_type": "code",
   "execution_count": 19,
   "id": "df5d84c3",
   "metadata": {},
   "outputs": [
    {
     "data": {
      "image/png": "[encoded data removed]",
      "text/plain": [
       "<Figure size 640x480 with 1 Axes>"
      ]
     },
     "metadata": {},
     "output_type": "display_data"
    }
   ],
   "source": [
    "# Channel distribution\n",
    "sns.countplot(data=df, x=\"channel\")\n",
    "plt.title(\"Campaign Channel Distribution\")\n",
    "plt.xticks(rotation=45)\n",
    "plt.show()"
   ]
  },
  {
   "cell_type": "code",
   "execution_count": 20,
   "id": "d9cd7f1f",
   "metadata": {},
   "outputs": [
    {
     "data": {
      "text/plain": [
       "['campaign_model.pkl']"
      ]
     },
     "execution_count": 20,
     "metadata": {},
     "output_type": "execute_result"
    }
   ],
   "source": [
    "# train_model.py\n",
    "import pandas as pd\n",
    "from sklearn.model_selection import train_test_split\n",
    "from sklearn.ensemble import RandomForestRegressor\n",
    "import joblib\n",
    "\n",
    "# Load cleaned data\n",
    "df = pd.read_csv(\"C:\\\\Users\\\\Dhusyath\\\\Downloads\\\\PROJECTS_DA\\\\PROJECTS_DA\\\\Campaign Intelligence Suite (marketing & Ads)\\\\cleaned_campaign.csv\")\n",
    "\n",
    "# Feature engineering\n",
    "df[\"start_date\"] = pd.to_datetime(df[\"start_date\"])\n",
    "df[\"end_date\"] = pd.to_datetime(df[\"end_date\"])\n",
    "df[\"duration_days\"] = (df[\"end_date\"] - df[\"start_date\"]).dt.days\n",
    "\n",
    "# Features and target\n",
    "X = df[[\"budget\", \"impressions\", \"clicks\", \"duration_days\"]]\n",
    "y = df[\"conversions\"]\n",
    "\n",
    "# Train/test split\n",
    "X_train, X_test, y_train, y_test = train_test_split(X, y, test_size=0.2, random_state=42)\n",
    "\n",
    "# Train model\n",
    "model = RandomForestRegressor(n_estimators=100, random_state=42)\n",
    "model.fit(X_train, y_train)\n",
    "\n",
    "# Save model\n",
    "joblib.dump(model, \"campaign_model.pkl\")\n"
   ]
  },
  {
   "cell_type": "code",
   "execution_count": 4,
   "id": "2cf2a865",
   "metadata": {},
   "outputs": [
    {
     "name": "stdout",
     "output_type": "stream",
     "text": [
      "MSE: 2200983.890517555\n",
      "R² Score: -0.04863637212720251\n"
     ]
    }
   ],
   "source": [
    "# model_evaluation.py\n",
    "import pandas as pd\n",
    "import joblib\n",
    "from sklearn.model_selection import train_test_split\n",
    "from sklearn.metrics import mean_squared_error, r2_score\n",
    "\n",
    "# Load cleaned data\n",
    "df = pd.read_csv(\"C:\\\\Users\\\\Dhusyath\\\\Downloads\\\\PROJECTS_DA\\\\PROJECTS_DA\\\\Campaign_Intelligence_Suite_Marketing_Ads\\\\cleaned_campaign.csv\")\n",
    "\n",
    "# Feature engineering\n",
    "df[\"start_date\"] = pd.to_datetime(df[\"start_date\"])\n",
    "df[\"end_date\"] = pd.to_datetime(df[\"end_date\"])\n",
    "df[\"duration_days\"] = (df[\"end_date\"] - df[\"start_date\"]).dt.days\n",
    "\n",
    "# Define features and target\n",
    "X = df[[\"budget\", \"impressions\", \"clicks\", \"duration_days\"]]\n",
    "y = df[\"conversions\"]\n",
    "\n",
    "# Split data\n",
    "X_train, X_test, y_train, y_test = train_test_split(X, y, test_size=0.2, random_state=42)\n",
    "\n",
    "# Load model\n",
    "model = joblib.load(\"C:\\\\Users\\\\Dhusyath\\\\Downloads\\\\PROJECTS_DA\\\\PROJECTS_DA\\\\Campaign_Intelligence_Suite_Marketing_Ads\\\\campaign_model.pkl\")\n",
    "\n",
    "# Predict and evaluate\n",
    "y_pred = model.predict(X_test)\n",
    "print(\"MSE:\", mean_squared_error(y_test, y_pred))\n",
    "print(\"R² Score:\", r2_score(y_test, y_pred))\n"
   ]
  },
  {
   "cell_type": "code",
   "execution_count": null,
   "id": "c178bea8",
   "metadata": {},
   "outputs": [],
   "source": []
  }
 ],
 "metadata": {
  "kernelspec": {
   "display_name": "base",
   "language": "python",
   "name": "python3"
  },
  "language_info": {
   "codemirror_mode": {
    "name": "ipython",
    "version": 3
   },
   "file_extension": ".py",
   "mimetype": "text/x-python",
   "name": "python",
   "nbconvert_exporter": "python",
   "pygments_lexer": "ipython3",
   "version": "3.13.5"
  }
 },
 "nbformat": 4,
 "nbformat_minor": 5
}
